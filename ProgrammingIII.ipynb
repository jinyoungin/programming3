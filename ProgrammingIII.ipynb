{
 "cells": [
  {
   "cell_type": "markdown",
   "metadata": {},
   "source": [
    "# <center> 프로그래밍3 최종분석 <center/>"
   ]
  },
  {
   "cell_type": "markdown",
   "metadata": {},
   "source": [
    "####      <div style=\"text-align:right\">산업데이터사이언스학부 </div> <br>\n",
    "<div style=\"text-align:right\">2201704236 인진영 </div>"
   ]
  },
  {
   "cell_type": "markdown",
   "metadata": {},
   "source": [
    "## 이동통신 사용자 데이터를 분석하기 위해 데이터를 불러왔다."
   ]
  },
  {
   "cell_type": "code",
   "execution_count": 2,
   "metadata": {},
   "outputs": [],
   "source": [
    "import pandas as pd\n",
    "import numpy as np"
   ]
  },
  {
   "cell_type": "code",
   "execution_count": 3,
   "metadata": {},
   "outputs": [],
   "source": [
    "telco = pd.read_csv('telco.csv', encoding = 'euc-kr' )"
   ]
  },
  {
   "cell_type": "code",
   "execution_count": 4,
   "metadata": {},
   "outputs": [
    {
     "data": {
      "text/html": [
       "<div>\n",
       "<style scoped>\n",
       "    .dataframe tbody tr th:only-of-type {\n",
       "        vertical-align: middle;\n",
       "    }\n",
       "\n",
       "    .dataframe tbody tr th {\n",
       "        vertical-align: top;\n",
       "    }\n",
       "\n",
       "    .dataframe thead th {\n",
       "        text-align: right;\n",
       "    }\n",
       "</style>\n",
       "<table border=\"1\" class=\"dataframe\">\n",
       "  <thead>\n",
       "    <tr style=\"text-align: right;\">\n",
       "      <th></th>\n",
       "      <th>Leave</th>\n",
       "      <th>MemberWeeks</th>\n",
       "      <th>NewContract</th>\n",
       "      <th>IsData</th>\n",
       "      <th>DataAmount</th>\n",
       "      <th>Callcenter</th>\n",
       "      <th>CalMins</th>\n",
       "      <th>CalCounts</th>\n",
       "      <th>MonthlyFee</th>\n",
       "      <th>OverFee</th>\n",
       "      <th>RoamingMin</th>\n",
       "    </tr>\n",
       "  </thead>\n",
       "  <tbody>\n",
       "    <tr>\n",
       "      <th>0</th>\n",
       "      <td>0</td>\n",
       "      <td>128</td>\n",
       "      <td>1</td>\n",
       "      <td>1</td>\n",
       "      <td>2.7</td>\n",
       "      <td>1</td>\n",
       "      <td>265.1</td>\n",
       "      <td>110</td>\n",
       "      <td>89.0</td>\n",
       "      <td>9.87</td>\n",
       "      <td>10.0</td>\n",
       "    </tr>\n",
       "    <tr>\n",
       "      <th>1</th>\n",
       "      <td>0</td>\n",
       "      <td>107</td>\n",
       "      <td>1</td>\n",
       "      <td>1</td>\n",
       "      <td>3.7</td>\n",
       "      <td>1</td>\n",
       "      <td>161.6</td>\n",
       "      <td>123</td>\n",
       "      <td>82.0</td>\n",
       "      <td>9.78</td>\n",
       "      <td>13.7</td>\n",
       "    </tr>\n",
       "    <tr>\n",
       "      <th>2</th>\n",
       "      <td>0</td>\n",
       "      <td>137</td>\n",
       "      <td>1</td>\n",
       "      <td>0</td>\n",
       "      <td>0.0</td>\n",
       "      <td>0</td>\n",
       "      <td>243.4</td>\n",
       "      <td>114</td>\n",
       "      <td>52.0</td>\n",
       "      <td>6.06</td>\n",
       "      <td>12.2</td>\n",
       "    </tr>\n",
       "    <tr>\n",
       "      <th>3</th>\n",
       "      <td>0</td>\n",
       "      <td>84</td>\n",
       "      <td>0</td>\n",
       "      <td>0</td>\n",
       "      <td>0.0</td>\n",
       "      <td>2</td>\n",
       "      <td>299.4</td>\n",
       "      <td>71</td>\n",
       "      <td>57.0</td>\n",
       "      <td>3.10</td>\n",
       "      <td>6.6</td>\n",
       "    </tr>\n",
       "    <tr>\n",
       "      <th>4</th>\n",
       "      <td>0</td>\n",
       "      <td>75</td>\n",
       "      <td>0</td>\n",
       "      <td>0</td>\n",
       "      <td>0.0</td>\n",
       "      <td>3</td>\n",
       "      <td>166.7</td>\n",
       "      <td>113</td>\n",
       "      <td>41.0</td>\n",
       "      <td>7.42</td>\n",
       "      <td>10.1</td>\n",
       "    </tr>\n",
       "  </tbody>\n",
       "</table>\n",
       "</div>"
      ],
      "text/plain": [
       "   Leave  MemberWeeks  NewContract  IsData  DataAmount  Callcenter  CalMins  \\\n",
       "0      0          128            1       1         2.7           1    265.1   \n",
       "1      0          107            1       1         3.7           1    161.6   \n",
       "2      0          137            1       0         0.0           0    243.4   \n",
       "3      0           84            0       0         0.0           2    299.4   \n",
       "4      0           75            0       0         0.0           3    166.7   \n",
       "\n",
       "   CalCounts  MonthlyFee  OverFee  RoamingMin  \n",
       "0        110        89.0     9.87        10.0  \n",
       "1        123        82.0     9.78        13.7  \n",
       "2        114        52.0     6.06        12.2  \n",
       "3         71        57.0     3.10         6.6  \n",
       "4        113        41.0     7.42        10.1  "
      ]
     },
     "execution_count": 4,
     "metadata": {},
     "output_type": "execute_result"
    }
   ],
   "source": [
    "telco.head()"
   ]
  },
  {
   "cell_type": "markdown",
   "metadata": {},
   "source": [
    "## rename을 사용해 컬럼들의 이름을 바꿔주었다."
   ]
  },
  {
   "cell_type": "code",
   "execution_count": 5,
   "metadata": {},
   "outputs": [
    {
     "data": {
      "text/html": [
       "<div>\n",
       "<style scoped>\n",
       "    .dataframe tbody tr th:only-of-type {\n",
       "        vertical-align: middle;\n",
       "    }\n",
       "\n",
       "    .dataframe tbody tr th {\n",
       "        vertical-align: top;\n",
       "    }\n",
       "\n",
       "    .dataframe thead th {\n",
       "        text-align: right;\n",
       "    }\n",
       "</style>\n",
       "<table border=\"1\" class=\"dataframe\">\n",
       "  <thead>\n",
       "    <tr style=\"text-align: right;\">\n",
       "      <th></th>\n",
       "      <th>가입해지여부</th>\n",
       "      <th>가입기간</th>\n",
       "      <th>가입갱신여부</th>\n",
       "      <th>데이터요금제사용여부</th>\n",
       "      <th>데이터사용량</th>\n",
       "      <th>고객센터전화량</th>\n",
       "      <th>월평균전화량</th>\n",
       "      <th>월평균전화수</th>\n",
       "      <th>월평균요금</th>\n",
       "      <th>초과요금</th>\n",
       "      <th>로밍시간</th>\n",
       "    </tr>\n",
       "  </thead>\n",
       "  <tbody>\n",
       "    <tr>\n",
       "      <th>0</th>\n",
       "      <td>0</td>\n",
       "      <td>128</td>\n",
       "      <td>1</td>\n",
       "      <td>1</td>\n",
       "      <td>2.70</td>\n",
       "      <td>1</td>\n",
       "      <td>265.1</td>\n",
       "      <td>110</td>\n",
       "      <td>89.0</td>\n",
       "      <td>9.87</td>\n",
       "      <td>10.0</td>\n",
       "    </tr>\n",
       "    <tr>\n",
       "      <th>1</th>\n",
       "      <td>0</td>\n",
       "      <td>107</td>\n",
       "      <td>1</td>\n",
       "      <td>1</td>\n",
       "      <td>3.70</td>\n",
       "      <td>1</td>\n",
       "      <td>161.6</td>\n",
       "      <td>123</td>\n",
       "      <td>82.0</td>\n",
       "      <td>9.78</td>\n",
       "      <td>13.7</td>\n",
       "    </tr>\n",
       "    <tr>\n",
       "      <th>2</th>\n",
       "      <td>0</td>\n",
       "      <td>137</td>\n",
       "      <td>1</td>\n",
       "      <td>0</td>\n",
       "      <td>0.00</td>\n",
       "      <td>0</td>\n",
       "      <td>243.4</td>\n",
       "      <td>114</td>\n",
       "      <td>52.0</td>\n",
       "      <td>6.06</td>\n",
       "      <td>12.2</td>\n",
       "    </tr>\n",
       "    <tr>\n",
       "      <th>3</th>\n",
       "      <td>0</td>\n",
       "      <td>84</td>\n",
       "      <td>0</td>\n",
       "      <td>0</td>\n",
       "      <td>0.00</td>\n",
       "      <td>2</td>\n",
       "      <td>299.4</td>\n",
       "      <td>71</td>\n",
       "      <td>57.0</td>\n",
       "      <td>3.10</td>\n",
       "      <td>6.6</td>\n",
       "    </tr>\n",
       "    <tr>\n",
       "      <th>4</th>\n",
       "      <td>0</td>\n",
       "      <td>75</td>\n",
       "      <td>0</td>\n",
       "      <td>0</td>\n",
       "      <td>0.00</td>\n",
       "      <td>3</td>\n",
       "      <td>166.7</td>\n",
       "      <td>113</td>\n",
       "      <td>41.0</td>\n",
       "      <td>7.42</td>\n",
       "      <td>10.1</td>\n",
       "    </tr>\n",
       "    <tr>\n",
       "      <th>...</th>\n",
       "      <td>...</td>\n",
       "      <td>...</td>\n",
       "      <td>...</td>\n",
       "      <td>...</td>\n",
       "      <td>...</td>\n",
       "      <td>...</td>\n",
       "      <td>...</td>\n",
       "      <td>...</td>\n",
       "      <td>...</td>\n",
       "      <td>...</td>\n",
       "      <td>...</td>\n",
       "    </tr>\n",
       "    <tr>\n",
       "      <th>3328</th>\n",
       "      <td>0</td>\n",
       "      <td>192</td>\n",
       "      <td>1</td>\n",
       "      <td>1</td>\n",
       "      <td>2.67</td>\n",
       "      <td>2</td>\n",
       "      <td>156.2</td>\n",
       "      <td>77</td>\n",
       "      <td>71.7</td>\n",
       "      <td>10.78</td>\n",
       "      <td>9.9</td>\n",
       "    </tr>\n",
       "    <tr>\n",
       "      <th>3329</th>\n",
       "      <td>0</td>\n",
       "      <td>68</td>\n",
       "      <td>1</td>\n",
       "      <td>0</td>\n",
       "      <td>0.34</td>\n",
       "      <td>3</td>\n",
       "      <td>231.1</td>\n",
       "      <td>57</td>\n",
       "      <td>56.4</td>\n",
       "      <td>7.67</td>\n",
       "      <td>9.6</td>\n",
       "    </tr>\n",
       "    <tr>\n",
       "      <th>3330</th>\n",
       "      <td>0</td>\n",
       "      <td>28</td>\n",
       "      <td>1</td>\n",
       "      <td>0</td>\n",
       "      <td>0.00</td>\n",
       "      <td>2</td>\n",
       "      <td>180.8</td>\n",
       "      <td>109</td>\n",
       "      <td>56.0</td>\n",
       "      <td>14.44</td>\n",
       "      <td>14.1</td>\n",
       "    </tr>\n",
       "    <tr>\n",
       "      <th>3331</th>\n",
       "      <td>0</td>\n",
       "      <td>184</td>\n",
       "      <td>0</td>\n",
       "      <td>0</td>\n",
       "      <td>0.00</td>\n",
       "      <td>2</td>\n",
       "      <td>213.8</td>\n",
       "      <td>105</td>\n",
       "      <td>50.0</td>\n",
       "      <td>7.98</td>\n",
       "      <td>5.0</td>\n",
       "    </tr>\n",
       "    <tr>\n",
       "      <th>3332</th>\n",
       "      <td>0</td>\n",
       "      <td>74</td>\n",
       "      <td>1</td>\n",
       "      <td>1</td>\n",
       "      <td>3.70</td>\n",
       "      <td>0</td>\n",
       "      <td>234.4</td>\n",
       "      <td>113</td>\n",
       "      <td>100.0</td>\n",
       "      <td>13.30</td>\n",
       "      <td>13.7</td>\n",
       "    </tr>\n",
       "  </tbody>\n",
       "</table>\n",
       "<p>3333 rows × 11 columns</p>\n",
       "</div>"
      ],
      "text/plain": [
       "      가입해지여부  가입기간  가입갱신여부  데이터요금제사용여부  데이터사용량  고객센터전화량  월평균전화량  월평균전화수  \\\n",
       "0          0   128       1           1    2.70        1   265.1     110   \n",
       "1          0   107       1           1    3.70        1   161.6     123   \n",
       "2          0   137       1           0    0.00        0   243.4     114   \n",
       "3          0    84       0           0    0.00        2   299.4      71   \n",
       "4          0    75       0           0    0.00        3   166.7     113   \n",
       "...      ...   ...     ...         ...     ...      ...     ...     ...   \n",
       "3328       0   192       1           1    2.67        2   156.2      77   \n",
       "3329       0    68       1           0    0.34        3   231.1      57   \n",
       "3330       0    28       1           0    0.00        2   180.8     109   \n",
       "3331       0   184       0           0    0.00        2   213.8     105   \n",
       "3332       0    74       1           1    3.70        0   234.4     113   \n",
       "\n",
       "      월평균요금   초과요금  로밍시간  \n",
       "0      89.0   9.87  10.0  \n",
       "1      82.0   9.78  13.7  \n",
       "2      52.0   6.06  12.2  \n",
       "3      57.0   3.10   6.6  \n",
       "4      41.0   7.42  10.1  \n",
       "...     ...    ...   ...  \n",
       "3328   71.7  10.78   9.9  \n",
       "3329   56.4   7.67   9.6  \n",
       "3330   56.0  14.44  14.1  \n",
       "3331   50.0   7.98   5.0  \n",
       "3332  100.0  13.30  13.7  \n",
       "\n",
       "[3333 rows x 11 columns]"
      ]
     },
     "execution_count": 5,
     "metadata": {},
     "output_type": "execute_result"
    }
   ],
   "source": [
    "telco = (telco.rename(columns={\n",
    "    'Leave':'가입해지여부',\n",
    "    'MemberWeeks':'가입기간',\n",
    "    'NewContract':'가입갱신여부',\n",
    "    'IsData':'데이터요금제사용여부',\n",
    "    'DataAmount':'데이터사용량',\n",
    "    'Callcenter':'고객센터전화량',\n",
    "    'CalMins':'월평균전화량',\n",
    "    'CalCounts':'월평균전화수',\n",
    "    'MonthlyFee':'월평균요금',\n",
    "    'OverFee':'초과요금',\n",
    "    'RoamingMin':'로밍시간'}))\n",
    "telco"
   ]
  },
  {
   "cell_type": "markdown",
   "metadata": {},
   "source": [
    "## 데이터를 줄이기 위해 int와 float, object가 몇개 있는지 확인 후 데이터를 줄였다."
   ]
  },
  {
   "cell_type": "code",
   "execution_count": 6,
   "metadata": {},
   "outputs": [
    {
     "data": {
      "text/plain": [
       "int64      6\n",
       "float64    5\n",
       "dtype: int64"
      ]
     },
     "execution_count": 6,
     "metadata": {},
     "output_type": "execute_result"
    }
   ],
   "source": [
    "telco.dtypes.value_counts()"
   ]
  },
  {
   "cell_type": "code",
   "execution_count": 7,
   "metadata": {},
   "outputs": [
    {
     "data": {
      "text/html": [
       "<div>\n",
       "<style scoped>\n",
       "    .dataframe tbody tr th:only-of-type {\n",
       "        vertical-align: middle;\n",
       "    }\n",
       "\n",
       "    .dataframe tbody tr th {\n",
       "        vertical-align: top;\n",
       "    }\n",
       "\n",
       "    .dataframe thead th {\n",
       "        text-align: right;\n",
       "    }\n",
       "</style>\n",
       "<table border=\"1\" class=\"dataframe\">\n",
       "  <thead>\n",
       "    <tr style=\"text-align: right;\">\n",
       "      <th></th>\n",
       "      <th>count</th>\n",
       "      <th>mean</th>\n",
       "      <th>std</th>\n",
       "      <th>min</th>\n",
       "      <th>25%</th>\n",
       "      <th>50%</th>\n",
       "      <th>75%</th>\n",
       "      <th>max</th>\n",
       "    </tr>\n",
       "  </thead>\n",
       "  <tbody>\n",
       "    <tr>\n",
       "      <th>가입해지여부</th>\n",
       "      <td>3333.0</td>\n",
       "      <td>0.144914</td>\n",
       "      <td>0.352067</td>\n",
       "      <td>0.0</td>\n",
       "      <td>0.0</td>\n",
       "      <td>0.0</td>\n",
       "      <td>0.0</td>\n",
       "      <td>1.0</td>\n",
       "    </tr>\n",
       "    <tr>\n",
       "      <th>가입기간</th>\n",
       "      <td>3333.0</td>\n",
       "      <td>101.064806</td>\n",
       "      <td>39.822106</td>\n",
       "      <td>1.0</td>\n",
       "      <td>74.0</td>\n",
       "      <td>101.0</td>\n",
       "      <td>127.0</td>\n",
       "      <td>243.0</td>\n",
       "    </tr>\n",
       "    <tr>\n",
       "      <th>가입갱신여부</th>\n",
       "      <td>3333.0</td>\n",
       "      <td>0.903090</td>\n",
       "      <td>0.295879</td>\n",
       "      <td>0.0</td>\n",
       "      <td>1.0</td>\n",
       "      <td>1.0</td>\n",
       "      <td>1.0</td>\n",
       "      <td>1.0</td>\n",
       "    </tr>\n",
       "    <tr>\n",
       "      <th>데이터요금제사용여부</th>\n",
       "      <td>3333.0</td>\n",
       "      <td>0.276628</td>\n",
       "      <td>0.447398</td>\n",
       "      <td>0.0</td>\n",
       "      <td>0.0</td>\n",
       "      <td>0.0</td>\n",
       "      <td>1.0</td>\n",
       "      <td>1.0</td>\n",
       "    </tr>\n",
       "    <tr>\n",
       "      <th>고객센터전화량</th>\n",
       "      <td>3333.0</td>\n",
       "      <td>1.562856</td>\n",
       "      <td>1.315491</td>\n",
       "      <td>0.0</td>\n",
       "      <td>1.0</td>\n",
       "      <td>1.0</td>\n",
       "      <td>2.0</td>\n",
       "      <td>9.0</td>\n",
       "    </tr>\n",
       "    <tr>\n",
       "      <th>월평균전화수</th>\n",
       "      <td>3333.0</td>\n",
       "      <td>100.435644</td>\n",
       "      <td>20.069084</td>\n",
       "      <td>0.0</td>\n",
       "      <td>87.0</td>\n",
       "      <td>101.0</td>\n",
       "      <td>114.0</td>\n",
       "      <td>165.0</td>\n",
       "    </tr>\n",
       "  </tbody>\n",
       "</table>\n",
       "</div>"
      ],
      "text/plain": [
       "             count        mean        std  min   25%    50%    75%    max\n",
       "가입해지여부      3333.0    0.144914   0.352067  0.0   0.0    0.0    0.0    1.0\n",
       "가입기간        3333.0  101.064806  39.822106  1.0  74.0  101.0  127.0  243.0\n",
       "가입갱신여부      3333.0    0.903090   0.295879  0.0   1.0    1.0    1.0    1.0\n",
       "데이터요금제사용여부  3333.0    0.276628   0.447398  0.0   0.0    0.0    1.0    1.0\n",
       "고객센터전화량     3333.0    1.562856   1.315491  0.0   1.0    1.0    2.0    9.0\n",
       "월평균전화수      3333.0  100.435644  20.069084  0.0  87.0  101.0  114.0  165.0"
      ]
     },
     "execution_count": 7,
     "metadata": {},
     "output_type": "execute_result"
    }
   ],
   "source": [
    "telco.describe(include=np.int64).T"
   ]
  },
  {
   "cell_type": "code",
   "execution_count": 8,
   "metadata": {},
   "outputs": [
    {
     "data": {
      "text/plain": [
       "iinfo(min=-2147483648, max=2147483647, dtype=int32)"
      ]
     },
     "execution_count": 8,
     "metadata": {},
     "output_type": "execute_result"
    }
   ],
   "source": [
    "np.iinfo(np.int32)"
   ]
  },
  {
   "cell_type": "code",
   "execution_count": 9,
   "metadata": {},
   "outputs": [
    {
     "name": "stdout",
     "output_type": "stream",
     "text": [
      "<class 'pandas.core.frame.DataFrame'>\n",
      "RangeIndex: 3333 entries, 0 to 3332\n",
      "Data columns (total 6 columns):\n",
      " #   Column      Non-Null Count  Dtype\n",
      "---  ------      --------------  -----\n",
      " 0   가입해지여부      3333 non-null   int16\n",
      " 1   가입기간        3333 non-null   int16\n",
      " 2   가입갱신여부      3333 non-null   int16\n",
      " 3   데이터요금제사용여부  3333 non-null   int16\n",
      " 4   고객센터전화량     3333 non-null   int16\n",
      " 5   월평균전화수      3333 non-null   int16\n",
      "dtypes: int16(6)\n",
      "memory usage: 39.2 KB\n"
     ]
    }
   ],
   "source": [
    "(\n",
    " telco[['가입해지여부', '가입기간', '가입갱신여부', '데이터요금제사용여부', '고객센터전화량', '월평균전화수']]\n",
    " .assign(가입해지여부=telco.가입해지여부.astype(np.int16), \n",
    "         가입기간=telco.가입기간.astype(np.int16), \n",
    "         가입갱신여부=telco.가입갱신여부.astype(np.int16), \n",
    "         데이터요금제사용여부=telco.데이터요금제사용여부.astype(np.int16), \n",
    "         고객센터전화량=telco.고객센터전화량.astype(np.int16),\n",
    "         월평균전화수=telco.월평균전화수.astype(np.int16))\n",
    " .info(memory_usage='deep')\n",
    ")"
   ]
  },
  {
   "cell_type": "code",
   "execution_count": 10,
   "metadata": {},
   "outputs": [
    {
     "data": {
      "text/plain": [
       "finfo(resolution=0.001, min=-6.55040e+04, max=6.55040e+04, dtype=float16)"
      ]
     },
     "execution_count": 10,
     "metadata": {},
     "output_type": "execute_result"
    }
   ],
   "source": [
    " np.finfo(np.float16)"
   ]
  },
  {
   "cell_type": "code",
   "execution_count": 11,
   "metadata": {},
   "outputs": [
    {
     "name": "stdout",
     "output_type": "stream",
     "text": [
      "<class 'pandas.core.frame.DataFrame'>\n",
      "RangeIndex: 3333 entries, 0 to 3332\n",
      "Data columns (total 5 columns):\n",
      " #   Column  Non-Null Count  Dtype  \n",
      "---  ------  --------------  -----  \n",
      " 0   데이터사용량  3333 non-null   float16\n",
      " 1   월평균전화량  3333 non-null   float16\n",
      " 2   월평균요금   3333 non-null   float16\n",
      " 3   초과요금    3333 non-null   float16\n",
      " 4   로밍시간    3333 non-null   float16\n",
      "dtypes: float16(5)\n",
      "memory usage: 32.7 KB\n"
     ]
    }
   ],
   "source": [
    "(\n",
    " telco[['데이터사용량', '월평균전화량', '월평균요금', '초과요금', '로밍시간']]\n",
    " .assign(데이터사용량=telco.데이터사용량.astype(np.float16), \n",
    "         월평균전화량=telco.월평균전화량.astype(np.float16), \n",
    "         월평균요금=telco.월평균요금.astype(np.float16), \n",
    "         초과요금=telco.초과요금.astype(np.float16), \n",
    "         로밍시간=telco.로밍시간.astype(np.float16))\n",
    " .info(memory_usage='deep')\n",
    ")"
   ]
  },
  {
   "cell_type": "code",
   "execution_count": 12,
   "metadata": {},
   "outputs": [
    {
     "data": {
      "text/plain": [
       "Index(['데이터사용량', '월평균전화량', '월평균요금', '초과요금', '로밍시간'], dtype='object')"
      ]
     },
     "execution_count": 12,
     "metadata": {},
     "output_type": "execute_result"
    }
   ],
   "source": [
    "telco.select_dtypes(float).columns"
   ]
  },
  {
   "cell_type": "code",
   "execution_count": 13,
   "metadata": {},
   "outputs": [
    {
     "data": {
      "text/plain": [
       "174"
      ]
     },
     "execution_count": 13,
     "metadata": {},
     "output_type": "execute_result"
    }
   ],
   "source": [
    "telco.데이터사용량.nunique()"
   ]
  },
  {
   "cell_type": "code",
   "execution_count": 14,
   "metadata": {},
   "outputs": [
    {
     "data": {
      "text/plain": [
       "1667"
      ]
     },
     "execution_count": 14,
     "metadata": {},
     "output_type": "execute_result"
    }
   ],
   "source": [
    "telco.월평균전화량.nunique()"
   ]
  },
  {
   "cell_type": "code",
   "execution_count": 15,
   "metadata": {},
   "outputs": [
    {
     "data": {
      "text/plain": [
       "627"
      ]
     },
     "execution_count": 15,
     "metadata": {},
     "output_type": "execute_result"
    }
   ],
   "source": [
    "telco.월평균요금.nunique()"
   ]
  },
  {
   "cell_type": "code",
   "execution_count": 26,
   "metadata": {},
   "outputs": [
    {
     "data": {
      "text/plain": [
       "0.00    1813\n",
       "0.31      41\n",
       "0.21      39\n",
       "0.29      36\n",
       "0.26      34\n",
       "        ... \n",
       "0.46       1\n",
       "4.64       1\n",
       "0.47       1\n",
       "1.05       1\n",
       "4.48       1\n",
       "Name: 데이터사용량, Length: 174, dtype: int64"
      ]
     },
     "execution_count": 26,
     "metadata": {},
     "output_type": "execute_result"
    }
   ],
   "source": [
    "telco.데이터사용량.value_counts()"
   ]
  },
  {
   "cell_type": "code",
   "execution_count": 25,
   "metadata": {},
   "outputs": [
    {
     "data": {
      "text/plain": [
       "10.0    62\n",
       "11.3    59\n",
       "9.8     56\n",
       "10.9    56\n",
       "10.1    53\n",
       "        ..\n",
       "18.9     1\n",
       "1.3      1\n",
       "2.7      1\n",
       "2.6      1\n",
       "3.1      1\n",
       "Name: 로밍시간, Length: 162, dtype: int64"
      ]
     },
     "execution_count": 25,
     "metadata": {},
     "output_type": "execute_result"
    }
   ],
   "source": [
    "telco.로밍시간.value_counts()"
   ]
  },
  {
   "cell_type": "markdown",
   "metadata": {},
   "source": [
    "---"
   ]
  },
  {
   "cell_type": "markdown",
   "metadata": {},
   "source": [
    "# 데이터시각화"
   ]
  },
  {
   "cell_type": "code",
   "execution_count": 28,
   "metadata": {},
   "outputs": [],
   "source": [
    "import matplotlib.pyplot as plt"
   ]
  },
  {
   "cell_type": "code",
   "execution_count": 31,
   "metadata": {},
   "outputs": [
    {
     "data": {
      "text/plain": [
       "Index(['데이터사용량', '월평균전화량', '월평균요금', '초과요금', '로밍시간'], dtype='object')"
      ]
     },
     "execution_count": 31,
     "metadata": {},
     "output_type": "execute_result"
    }
   ],
   "source": [
    "telco.select_dtypes(float).columns"
   ]
  },
  {
   "cell_type": "code",
   "execution_count": 32,
   "metadata": {},
   "outputs": [
    {
     "data": {
      "text/plain": [
       "가입해지여부           2\n",
       "가입기간           212\n",
       "가입갱신여부           2\n",
       "데이터요금제사용여부       2\n",
       "데이터사용량         174\n",
       "고객센터전화량         10\n",
       "월평균전화량        1667\n",
       "월평균전화수         119\n",
       "월평균요금          627\n",
       "초과요금          1024\n",
       "로밍시간           162\n",
       "dtype: int64"
      ]
     },
     "execution_count": 32,
     "metadata": {},
     "output_type": "execute_result"
    }
   ],
   "source": [
    "telco.nunique()"
   ]
  },
  {
   "cell_type": "code",
   "execution_count": 33,
   "metadata": {},
   "outputs": [
    {
     "data": {
      "text/plain": [
       "가입해지여부  가입기간  가입갱신여부  데이터요금제사용여부  데이터사용량  고객센터전화량  월평균전화량  월평균전화수  월평균요금  초과요금   로밍시간\n",
       "1       225   1       0           0.30    0        165.4   106     55.0   13.69  8.7     1\n",
       "0       94    1       0           0.00    1        181.5   98      48.0   10.00  6.6     1\n",
       "        89    1       1           2.86    1        215.1   140     82.6   9.87   10.6    1\n",
       "                                  2.84    2        188.0   105     73.4   7.57   10.5    1\n",
       "                                  2.35    1        209.9   113     80.5   12.49  8.7     1\n",
       "                                                                                        ..\n",
       "        131   1       0           0.00    2        263.4   123     58.0   7.60   10.7    1\n",
       "                                                   196.1   89      50.0   9.28   5.2     1\n",
       "                                                   187.9   110     49.0   10.03  10.2    1\n",
       "                                                   94.4    80      35.0   10.76  13.1    1\n",
       "        1     1       0           0.00    0        123.8   113     42.0   11.81  3.7     1\n",
       "Length: 3333, dtype: int64"
      ]
     },
     "execution_count": 33,
     "metadata": {},
     "output_type": "execute_result"
    }
   ],
   "source": [
    "telco.value_counts()"
   ]
  },
  {
   "cell_type": "code",
   "execution_count": 34,
   "metadata": {},
   "outputs": [],
   "source": [
    "top_n = telco.value_counts().index[:6]"
   ]
  },
  {
   "cell_type": "code",
   "execution_count": 35,
   "metadata": {},
   "outputs": [
    {
     "data": {
      "text/plain": [
       "MultiIndex([(1, 225, 1, 0,  0.3, 0, 165.4, 106, 55.0, 13.69,  8.7),\n",
       "            (0,  94, 1, 0,  0.0, 1, 181.5,  98, 48.0,  10.0,  6.6),\n",
       "            (0,  89, 1, 1, 2.86, 1, 215.1, 140, 82.6,  9.87, 10.6),\n",
       "            (0,  89, 1, 1, 2.84, 2, 188.0, 105, 73.4,  7.57, 10.5),\n",
       "            (0,  89, 1, 1, 2.35, 1, 209.9, 113, 80.5, 12.49,  8.7),\n",
       "            (0,  89, 1, 1, 2.03, 2, 163.5,  80, 72.3, 13.74,  7.5)],\n",
       "           names=['가입해지여부', '가입기간', '가입갱신여부', '데이터요금제사용여부', '데이터사용량', '고객센터전화량', '월평균전화량', '월평균전화수', '월평균요금', '초과요금', '로밍시간'])"
      ]
     },
     "execution_count": 35,
     "metadata": {},
     "output_type": "execute_result"
    }
   ],
   "source": [
    "top_n"
   ]
  },
  {
   "cell_type": "code",
   "execution_count": 36,
   "metadata": {},
   "outputs": [],
   "source": [
    "plt.rcParams['font.family'] = 'Malgun Gothic'"
   ]
  },
  {
   "cell_type": "code",
   "execution_count": 44,
   "metadata": {},
   "outputs": [
    {
     "data": {
      "text/plain": [
       "<AxesSubplot:>"
      ]
     },
     "execution_count": 44,
     "metadata": {},
     "output_type": "execute_result"
    },
    {
     "data": {
      "image/png": "[encoded data removed]",
      "text/plain": [
       "<Figure size 720x576 with 1 Axes>"
      ]
     },
     "metadata": {
      "needs_background": "light"
     },
     "output_type": "display_data"
    }
   ],
   "source": [
    "fig, ax = plt.subplots(figsize=(10, 8))\n",
    "top_n = telco.데이터사용량.value_counts().index[:10]\n",
    "(\n",
    " telco.assign(\n",
    " 데이터사용량=telco.데이터사용량.where(\n",
    " telco.데이터사용량.isin(top_n), 'Other'))\n",
    " .데이터사용량.value_counts()[1:]\n",
    " .plot.bar(ax=ax)\n",
    ")"
   ]
  },
  {
   "cell_type": "code",
   "execution_count": 41,
   "metadata": {},
   "outputs": [],
   "source": [
    "import seaborn as sns"
   ]
  },
  {
   "cell_type": "code",
   "execution_count": 43,
   "metadata": {},
   "outputs": [
    {
     "data": {
      "text/plain": [
       "<AxesSubplot:xlabel='count', ylabel='월평균전화량'>"
      ]
     },
     "execution_count": 43,
     "metadata": {},
     "output_type": "execute_result"
    },
    {
     "data": {
      "image/png": "[encoded data removed]",
      "text/plain": [
       "<Figure size 720x576 with 1 Axes>"
      ]
     },
     "metadata": {
      "needs_background": "light"
     },
     "output_type": "display_data"
    }
   ],
   "source": [
    "fig, ax = plt.subplots(figsize=(10, 8))\n",
    "top_n = telco.월평균전화량.value_counts().index[:10]\n",
    "sns.countplot(y='월평균전화량',\n",
    " data=(telco.assign(\n",
    " 월평균전화량=telco.월평균전화량.where(telco.월평균전화량.isin(top_n)))\n",
    " )\n",
    " )"
   ]
  },
  {
   "cell_type": "markdown",
   "metadata": {},
   "source": [
    "## 이런식으로 데이터 사용량과 월평균 전화량을 matplot과 seaborn을 사용하여 바그래프로 나타내 봤다."
   ]
  },
  {
   "cell_type": "code",
   "execution_count": null,
   "metadata": {},
   "outputs": [],
   "source": []
  }
 ],
 "metadata": {
  "kernelspec": {
   "display_name": "Python 3",
   "language": "python",
   "name": "python3"
  },
  "language_info": {
   "codemirror_mode": {
    "name": "ipython",
    "version": 3
   },
   "file_extension": ".py",
   "mimetype": "text/x-python",
   "name": "python",
   "nbconvert_exporter": "python",
   "pygments_lexer": "ipython3",
   "version": "3.8.5"
  }
 },
 "nbformat": 4,
 "nbformat_minor": 4
}
